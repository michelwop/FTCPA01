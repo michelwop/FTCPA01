{
 "cells": [
  {
   "cell_type": "code",
   "execution_count": 2,
   "id": "7228c533-529d-4f86-b0f3-d3b5e32ade5f",
   "metadata": {},
   "outputs": [],
   "source": [
    "import pandas as pd\n",
    "import inflection\n",
    "import pygwalker as pyg\n",
    "import seaborn as sns"
   ]
  },
  {
   "cell_type": "code",
   "execution_count": 3,
   "id": "537fc0ee-1c7a-4058-9b9b-433298560377",
   "metadata": {},
   "outputs": [],
   "source": [
    "df = pd.read_csv('C:/Users/miche/Documents/DC/Comunidade DS/PA01/zomato.csv')"
   ]
  },
  {
   "cell_type": "code",
   "execution_count": null,
   "id": "32ccc932-380d-4071-ba06-245e9d324e59",
   "metadata": {
    "scrolled": true
   },
   "outputs": [],
   "source": [
    "sns.pairplot(df)"
   ]
  },
  {
   "cell_type": "code",
   "execution_count": 11,
   "id": "222b1ea5-2666-4e53-aac2-b7c1c3f4bfc5",
   "metadata": {},
   "outputs": [
    {
     "data": {
      "text/plain": [
       "Index(['Restaurant ID', 'Restaurant Name', 'Country Code', 'City', 'Address',\n",
       "       'Locality', 'Locality Verbose', 'Longitude', 'Latitude', 'Cuisines',\n",
       "       'Average Cost for two', 'Currency', 'Has Table booking',\n",
       "       'Has Online delivery', 'Is delivering now', 'Switch to order menu',\n",
       "       'Price range', 'Aggregate rating', 'Rating color', 'Rating text',\n",
       "       'Votes'],\n",
       "      dtype='object')"
      ]
     },
     "execution_count": 11,
     "metadata": {},
     "output_type": "execute_result"
    }
   ],
   "source": [
    "df.columns"
   ]
  },
  {
   "cell_type": "markdown",
   "id": "a399123d-0e3a-4ace-9914-786ac0660532",
   "metadata": {},
   "source": [
    "=== Análise Exploratória ==="
   ]
  },
  {
   "cell_type": "code",
   "execution_count": null,
   "id": "e3192a5c-a719-4934-9b1c-2e13aa73f9a7",
   "metadata": {
    "scrolled": true
   },
   "outputs": [],
   "source": [
    "df.describe()"
   ]
  },
  {
   "cell_type": "code",
   "execution_count": null,
   "id": "bb4e5f3d-8ba3-4a9f-978c-1b9cdf1bc178",
   "metadata": {
    "scrolled": true
   },
   "outputs": [],
   "source": [
    "df.info()"
   ]
  },
  {
   "cell_type": "code",
   "execution_count": null,
   "id": "85935baf-eda9-485c-91af-85d3c04befb5",
   "metadata": {
    "scrolled": true
   },
   "outputs": [],
   "source": [
    "df.isnull().sum()"
   ]
  },
  {
   "cell_type": "code",
   "execution_count": null,
   "id": "3d2781e8-c375-41a8-b8de-0f6baf9819c4",
   "metadata": {},
   "outputs": [],
   "source": [
    "df['coluna'].fillna(valor, inplace=True)"
   ]
  },
  {
   "cell_type": "code",
   "execution_count": null,
   "id": "1e3cf3f6-9d52-4aba-8cfe-55dbdfcd8df2",
   "metadata": {
    "scrolled": true
   },
   "outputs": [],
   "source": [
    "df.nunique()"
   ]
  },
  {
   "cell_type": "code",
   "execution_count": null,
   "id": "acc04657-2286-4c8e-b0b5-7cd1fc205e99",
   "metadata": {
    "scrolled": true
   },
   "outputs": [],
   "source": [
    "df.head()"
   ]
  },
  {
   "cell_type": "code",
   "execution_count": null,
   "id": "5b3a7472-ecae-4ecd-a126-d380a1bcf9df",
   "metadata": {},
   "outputs": [],
   "source": [
    "df.tail()"
   ]
  },
  {
   "cell_type": "code",
   "execution_count": null,
   "id": "03dc8187-5e25-43c2-b5fb-75502eed7720",
   "metadata": {},
   "outputs": [],
   "source": [
    "df.shape"
   ]
  },
  {
   "cell_type": "code",
   "execution_count": null,
   "id": "708079e4-9ec8-4e54-821c-2bc30ee586cf",
   "metadata": {},
   "outputs": [],
   "source": [
    "df.loc[0, :]"
   ]
  },
  {
   "cell_type": "code",
   "execution_count": null,
   "id": "1efa7ad8-97a0-47ce-abde-3f270127e900",
   "metadata": {},
   "outputs": [],
   "source": [
    "df.dtypes"
   ]
  },
  {
   "cell_type": "markdown",
   "id": "f197aecf-4f21-4fb1-bac3-397c6e8013a9",
   "metadata": {},
   "source": [
    "=== Tratamento de Dados ==="
   ]
  },
  {
   "cell_type": "code",
   "execution_count": 3,
   "id": "55498c20-9b49-4bec-820d-f665352f898d",
   "metadata": {
    "scrolled": true
   },
   "outputs": [],
   "source": [
    "def rename_columns(dataframe):\n",
    "    df = dataframe.copy()\n",
    "    title = lambda x: inflection.titleize(x)\n",
    "    snakecase = lambda x: inflection.underscore(x)\n",
    "    spaces = lambda x: x.replace(\" \", \"\")\n",
    "    cols_old = list(df.columns)\n",
    "    cols_old = list(map(title, cols_old))\n",
    "    cols_old = list(map(spaces, cols_old))\n",
    "    cols_new = list(map(snakecase, cols_old))\n",
    "    df.columns = cols_new\n",
    "    return df\n",
    "\n",
    "df = rename_columns(df)"
   ]
  },
  {
   "cell_type": "code",
   "execution_count": 4,
   "id": "445a2c59-dda5-44fd-b84d-d2893fb438c7",
   "metadata": {},
   "outputs": [],
   "source": [
    "COUNTRIES = {\n",
    "    1: \"India\",\n",
    "    14: \"Australia\",\n",
    "    30: \"Brazil\",\n",
    "    37: \"Canada\",\n",
    "    94: \"Indonesia\",\n",
    "    148: \"New Zeland\",\n",
    "    162: \"Philippines\",\n",
    "    166: \"Qatar\",\n",
    "    184: \"Singapure\",\n",
    "    189: \"South Africa\",\n",
    "    191: \"Sri Lanka\",\n",
    "    208: \"Turkey\",\n",
    "    214: \"United Arab Emirates\",\n",
    "    215: \"England\",\n",
    "    216: \"United States of America\",\n",
    "}\n",
    "def country_name(country_id):\n",
    "    return COUNTRIES[country_id]\n",
    "\n",
    "df['country_code'] = df['country_code'].apply(country_name)"
   ]
  },
  {
   "cell_type": "code",
   "execution_count": 5,
   "id": "e4334db0-141d-4607-9275-023874cc50c6",
   "metadata": {
    "scrolled": true
   },
   "outputs": [],
   "source": [
    "def create_price_tye(price_range):\n",
    "    if price_range == 1:\n",
    "        return \"cheap\"\n",
    "    elif price_range == 2:\n",
    "        return \"normal\"\n",
    "    elif price_range == 3:\n",
    "        return \"expensive\"\n",
    "    else:\n",
    "        return \"gourmet\"\n",
    "\n",
    "df['price_range'] = df['price_range'].apply(create_price_tye)"
   ]
  },
  {
   "cell_type": "code",
   "execution_count": 6,
   "id": "5a968aff-130c-4205-9577-180f4cd0827f",
   "metadata": {},
   "outputs": [],
   "source": [
    "COLORS = {\n",
    "    \"3F7E00\": \"darkgreen\",\n",
    "    \"5BA829\": \"green\",\n",
    "    \"9ACD32\": \"lightgreen\",\n",
    "    \"CDD614\": \"orange\",\n",
    "    \"FFBA00\": \"red\",\n",
    "    \"CBCBC8\": \"darkred\",\n",
    "    \"FF7800\": \"darkred\",\n",
    "}\n",
    "def color_name(color_code):\n",
    "    return COLORS[color_code]\n",
    "\n",
    "df['rating_color'] = df['rating_color'].apply(color_name)"
   ]
  },
  {
   "cell_type": "code",
   "execution_count": 7,
   "id": "5e3f4e6c-b7a1-495e-90b2-e320c7ad0e65",
   "metadata": {},
   "outputs": [],
   "source": [
    "df[\"cuisines\"] = df[\"cuisines\"].apply(lambda x: str(x).split(\",\")[0] if pd.notna(x) else \"\")"
   ]
  },
  {
   "cell_type": "code",
   "execution_count": 8,
   "id": "fa870707-068c-40b2-b9d3-334d7b82b0a8",
   "metadata": {},
   "outputs": [],
   "source": [
    "df = df[df[\"cuisines\"] != \"\"]"
   ]
  },
  {
   "cell_type": "code",
   "execution_count": 10,
   "id": "3eec8523-64a0-4f25-a9fa-c4d0c7f34ae8",
   "metadata": {},
   "outputs": [
    {
     "data": {
      "text/plain": [
       "Index(['restaurant_id', 'restaurant_name', 'country_code', 'city', 'address',\n",
       "       'locality', 'locality_verbose', 'longitude', 'latitude', 'cuisines',\n",
       "       'average_cost_for_two', 'currency', 'has_table_booking',\n",
       "       'has_online_delivery', 'is_delivering_now', 'switch_to_order_menu',\n",
       "       'price_range', 'aggregate_rating', 'rating_color', 'rating_text',\n",
       "       'votes'],\n",
       "      dtype='object')"
      ]
     },
     "execution_count": 10,
     "metadata": {},
     "output_type": "execute_result"
    }
   ],
   "source": [
    "df.columns"
   ]
  },
  {
   "cell_type": "code",
   "execution_count": 22,
   "id": "638c9bc3-b476-4e9d-8795-a467a72f3c13",
   "metadata": {},
   "outputs": [
    {
     "data": {
      "text/plain": [
       "2653"
      ]
     },
     "execution_count": 22,
     "metadata": {},
     "output_type": "execute_result"
    }
   ],
   "source": [
    "df['restaurant_id'][df['has_online_delivery'] == 1].count()"
   ]
  },
  {
   "cell_type": "code",
   "execution_count": 12,
   "id": "04671da0-566c-4480-ae00-6bd388d31c30",
   "metadata": {},
   "outputs": [
    {
     "data": {
      "text/html": [
       "<div>\n",
       "<style scoped>\n",
       "    .dataframe tbody tr th:only-of-type {\n",
       "        vertical-align: middle;\n",
       "    }\n",
       "\n",
       "    .dataframe tbody tr th {\n",
       "        vertical-align: top;\n",
       "    }\n",
       "\n",
       "    .dataframe thead th {\n",
       "        text-align: right;\n",
       "    }\n",
       "</style>\n",
       "<table border=\"1\" class=\"dataframe\">\n",
       "  <thead>\n",
       "    <tr style=\"text-align: right;\">\n",
       "      <th></th>\n",
       "      <th>restaurant_id</th>\n",
       "      <th>restaurant_name</th>\n",
       "      <th>country_code</th>\n",
       "      <th>city</th>\n",
       "      <th>address</th>\n",
       "      <th>locality</th>\n",
       "      <th>locality_verbose</th>\n",
       "      <th>longitude</th>\n",
       "      <th>latitude</th>\n",
       "      <th>cuisines</th>\n",
       "      <th>...</th>\n",
       "      <th>currency</th>\n",
       "      <th>has_table_booking</th>\n",
       "      <th>has_online_delivery</th>\n",
       "      <th>is_delivering_now</th>\n",
       "      <th>switch_to_order_menu</th>\n",
       "      <th>price_range</th>\n",
       "      <th>aggregate_rating</th>\n",
       "      <th>rating_color</th>\n",
       "      <th>rating_text</th>\n",
       "      <th>votes</th>\n",
       "    </tr>\n",
       "  </thead>\n",
       "  <tbody>\n",
       "    <tr>\n",
       "      <th>0</th>\n",
       "      <td>6310675</td>\n",
       "      <td>Mama Lou's Italian Kitchen</td>\n",
       "      <td>Philippines</td>\n",
       "      <td>Las Piñas City</td>\n",
       "      <td>Block 1, Lot 36, Tropical Avenue Corner Tropic...</td>\n",
       "      <td>BF International</td>\n",
       "      <td>BF International, Las Piñas City</td>\n",
       "      <td>121.009787</td>\n",
       "      <td>14.447615</td>\n",
       "      <td>Italian</td>\n",
       "      <td>...</td>\n",
       "      <td>Botswana Pula(P)</td>\n",
       "      <td>1</td>\n",
       "      <td>0</td>\n",
       "      <td>0</td>\n",
       "      <td>0</td>\n",
       "      <td>expensive</td>\n",
       "      <td>4.6</td>\n",
       "      <td>darkgreen</td>\n",
       "      <td>Excellent</td>\n",
       "      <td>619</td>\n",
       "    </tr>\n",
       "    <tr>\n",
       "      <th>1</th>\n",
       "      <td>6310675</td>\n",
       "      <td>Mama Lou's Italian Kitchen</td>\n",
       "      <td>Philippines</td>\n",
       "      <td>Las Piñas City</td>\n",
       "      <td>Block 1, Lot 36, Tropical Avenue Corner Tropic...</td>\n",
       "      <td>BF International</td>\n",
       "      <td>BF International, Las Piñas City</td>\n",
       "      <td>121.009787</td>\n",
       "      <td>14.447615</td>\n",
       "      <td>Italian</td>\n",
       "      <td>...</td>\n",
       "      <td>Botswana Pula(P)</td>\n",
       "      <td>1</td>\n",
       "      <td>0</td>\n",
       "      <td>0</td>\n",
       "      <td>0</td>\n",
       "      <td>expensive</td>\n",
       "      <td>4.6</td>\n",
       "      <td>darkgreen</td>\n",
       "      <td>Excellent</td>\n",
       "      <td>619</td>\n",
       "    </tr>\n",
       "    <tr>\n",
       "      <th>2</th>\n",
       "      <td>6314542</td>\n",
       "      <td>Blackbird</td>\n",
       "      <td>Philippines</td>\n",
       "      <td>Makati City</td>\n",
       "      <td>Nielson Tower, Ayala Triangle Gardens, Salcedo...</td>\n",
       "      <td>Ayala Triangle Gardens, Salcedo Village, Makat...</td>\n",
       "      <td>Ayala Triangle Gardens, Salcedo Village, Makat...</td>\n",
       "      <td>121.024562</td>\n",
       "      <td>14.556042</td>\n",
       "      <td>European</td>\n",
       "      <td>...</td>\n",
       "      <td>Botswana Pula(P)</td>\n",
       "      <td>0</td>\n",
       "      <td>0</td>\n",
       "      <td>0</td>\n",
       "      <td>0</td>\n",
       "      <td>gourmet</td>\n",
       "      <td>4.7</td>\n",
       "      <td>darkgreen</td>\n",
       "      <td>Excellent</td>\n",
       "      <td>469</td>\n",
       "    </tr>\n",
       "    <tr>\n",
       "      <th>3</th>\n",
       "      <td>6301293</td>\n",
       "      <td>Banapple</td>\n",
       "      <td>Philippines</td>\n",
       "      <td>Makati City</td>\n",
       "      <td>Ayala Triangle Gardens, Salcedo Village, Makat...</td>\n",
       "      <td>Ayala Triangle Gardens, Salcedo Village, Makat...</td>\n",
       "      <td>Ayala Triangle Gardens, Salcedo Village, Makat...</td>\n",
       "      <td>121.023171</td>\n",
       "      <td>14.556196</td>\n",
       "      <td>Filipino</td>\n",
       "      <td>...</td>\n",
       "      <td>Botswana Pula(P)</td>\n",
       "      <td>0</td>\n",
       "      <td>0</td>\n",
       "      <td>0</td>\n",
       "      <td>0</td>\n",
       "      <td>expensive</td>\n",
       "      <td>4.4</td>\n",
       "      <td>green</td>\n",
       "      <td>Very Good</td>\n",
       "      <td>867</td>\n",
       "    </tr>\n",
       "    <tr>\n",
       "      <th>4</th>\n",
       "      <td>6315689</td>\n",
       "      <td>Bad Bird</td>\n",
       "      <td>Philippines</td>\n",
       "      <td>Makati City</td>\n",
       "      <td>Hole In The Wall, Floor 4, Century City Mall, ...</td>\n",
       "      <td>Century City Mall, Poblacion, Makati City</td>\n",
       "      <td>Century City Mall, Poblacion, Makati City, Mak...</td>\n",
       "      <td>121.027708</td>\n",
       "      <td>14.565899</td>\n",
       "      <td>American</td>\n",
       "      <td>...</td>\n",
       "      <td>Botswana Pula(P)</td>\n",
       "      <td>0</td>\n",
       "      <td>0</td>\n",
       "      <td>0</td>\n",
       "      <td>0</td>\n",
       "      <td>expensive</td>\n",
       "      <td>4.4</td>\n",
       "      <td>green</td>\n",
       "      <td>Very Good</td>\n",
       "      <td>858</td>\n",
       "    </tr>\n",
       "  </tbody>\n",
       "</table>\n",
       "<p>5 rows × 21 columns</p>\n",
       "</div>"
      ],
      "text/plain": [
       "   restaurant_id             restaurant_name country_code            city  \\\n",
       "0        6310675  Mama Lou's Italian Kitchen  Philippines  Las Piñas City   \n",
       "1        6310675  Mama Lou's Italian Kitchen  Philippines  Las Piñas City   \n",
       "2        6314542                   Blackbird  Philippines     Makati City   \n",
       "3        6301293                    Banapple  Philippines     Makati City   \n",
       "4        6315689                    Bad Bird  Philippines     Makati City   \n",
       "\n",
       "                                             address  \\\n",
       "0  Block 1, Lot 36, Tropical Avenue Corner Tropic...   \n",
       "1  Block 1, Lot 36, Tropical Avenue Corner Tropic...   \n",
       "2  Nielson Tower, Ayala Triangle Gardens, Salcedo...   \n",
       "3  Ayala Triangle Gardens, Salcedo Village, Makat...   \n",
       "4  Hole In The Wall, Floor 4, Century City Mall, ...   \n",
       "\n",
       "                                            locality  \\\n",
       "0                                   BF International   \n",
       "1                                   BF International   \n",
       "2  Ayala Triangle Gardens, Salcedo Village, Makat...   \n",
       "3  Ayala Triangle Gardens, Salcedo Village, Makat...   \n",
       "4          Century City Mall, Poblacion, Makati City   \n",
       "\n",
       "                                    locality_verbose   longitude   latitude  \\\n",
       "0                   BF International, Las Piñas City  121.009787  14.447615   \n",
       "1                   BF International, Las Piñas City  121.009787  14.447615   \n",
       "2  Ayala Triangle Gardens, Salcedo Village, Makat...  121.024562  14.556042   \n",
       "3  Ayala Triangle Gardens, Salcedo Village, Makat...  121.023171  14.556196   \n",
       "4  Century City Mall, Poblacion, Makati City, Mak...  121.027708  14.565899   \n",
       "\n",
       "   cuisines  ...          currency has_table_booking  has_online_delivery  \\\n",
       "0   Italian  ...  Botswana Pula(P)                 1                    0   \n",
       "1   Italian  ...  Botswana Pula(P)                 1                    0   \n",
       "2  European  ...  Botswana Pula(P)                 0                    0   \n",
       "3  Filipino  ...  Botswana Pula(P)                 0                    0   \n",
       "4  American  ...  Botswana Pula(P)                 0                    0   \n",
       "\n",
       "   is_delivering_now  switch_to_order_menu  price_range aggregate_rating  \\\n",
       "0                  0                     0    expensive              4.6   \n",
       "1                  0                     0    expensive              4.6   \n",
       "2                  0                     0      gourmet              4.7   \n",
       "3                  0                     0    expensive              4.4   \n",
       "4                  0                     0    expensive              4.4   \n",
       "\n",
       "   rating_color rating_text votes  \n",
       "0     darkgreen   Excellent   619  \n",
       "1     darkgreen   Excellent   619  \n",
       "2     darkgreen   Excellent   469  \n",
       "3         green   Very Good   867  \n",
       "4         green   Very Good   858  \n",
       "\n",
       "[5 rows x 21 columns]"
      ]
     },
     "execution_count": 12,
     "metadata": {},
     "output_type": "execute_result"
    }
   ],
   "source": [
    "df.head()"
   ]
  },
  {
   "cell_type": "markdown",
   "id": "3492bb76-db57-4398-b814-f717eafd30be",
   "metadata": {},
   "source": [
    "=== GERAL ==="
   ]
  },
  {
   "cell_type": "markdown",
   "id": "2fab42c6-23ef-4924-8e1d-83ab300a376a",
   "metadata": {},
   "source": [
    "1. Quantos restaurantes únicos estão registrados?\n"
   ]
  },
  {
   "cell_type": "code",
   "execution_count": null,
   "id": "aeb4d7cc-e31d-4911-ba4b-1892b00115b5",
   "metadata": {},
   "outputs": [],
   "source": [
    "df['restaurant_id'].nunique()"
   ]
  },
  {
   "cell_type": "markdown",
   "id": "c38f313a-635f-4837-baab-9964ce689d1a",
   "metadata": {},
   "source": [
    "2. Quantos países únicos estão registrados?"
   ]
  },
  {
   "cell_type": "code",
   "execution_count": null,
   "id": "00b78ab8-8c16-48b0-84a0-2f56d14d73d8",
   "metadata": {},
   "outputs": [],
   "source": [
    "df['country_code'].nunique()"
   ]
  },
  {
   "cell_type": "markdown",
   "id": "33ca8aaf-4b99-4cbd-a9ca-cb2d4e8a66da",
   "metadata": {},
   "source": [
    "3. Quantas cidades únicas estão registradas?"
   ]
  },
  {
   "cell_type": "code",
   "execution_count": null,
   "id": "89dbb4b6-5ddc-4543-8352-f1c75ee1df53",
   "metadata": {},
   "outputs": [],
   "source": [
    "df['city'].nunique()"
   ]
  },
  {
   "cell_type": "markdown",
   "id": "0b7e1052-e202-4622-86da-d9ba589a07ce",
   "metadata": {},
   "source": [
    "4. Qual o total de avaliações feitas?"
   ]
  },
  {
   "cell_type": "code",
   "execution_count": null,
   "id": "afdc6800-07b1-4e61-b5af-a4834ed42a15",
   "metadata": {},
   "outputs": [],
   "source": [
    "df['aggregate_rating'].count()"
   ]
  },
  {
   "cell_type": "markdown",
   "id": "3bd7fe53-876b-4108-9e79-f09a6c691a1d",
   "metadata": {},
   "source": [
    "5. Qual o total de tipos de culinária registrados?\r\n"
   ]
  },
  {
   "cell_type": "code",
   "execution_count": null,
   "id": "59951832-81ca-421a-9c55-b6c09278c52f",
   "metadata": {},
   "outputs": [],
   "source": [
    "df['cuisines'].nunique()"
   ]
  },
  {
   "cell_type": "markdown",
   "id": "23373e10-c733-4c96-8593-b86455235c99",
   "metadata": {},
   "source": [
    "=== PAÍS ==="
   ]
  },
  {
   "cell_type": "markdown",
   "id": "2e2d1ce9-17e3-4c83-95c4-9827dec91ad0",
   "metadata": {},
   "source": [
    "1. Qual o nome do país que possui mais cidades registradas?"
   ]
  },
  {
   "cell_type": "code",
   "execution_count": null,
   "id": "5f10008c-d414-4bb4-96bd-8f373aacdf7a",
   "metadata": {},
   "outputs": [],
   "source": [
    "df1 = df.groupby('country_code')['city'].nunique()\n",
    "df1.sort_values(ascending=False).head()"
   ]
  },
  {
   "cell_type": "markdown",
   "id": "29c1d777-16b5-4d29-b4cf-eb9673fcc10f",
   "metadata": {},
   "source": [
    "2. Qual o nome do país que possui mais restaurantes registrados?"
   ]
  },
  {
   "cell_type": "code",
   "execution_count": null,
   "id": "75c41500-3984-4a7e-850a-cd58628bd677",
   "metadata": {},
   "outputs": [],
   "source": [
    "df1 = df.groupby('country_code')['restaurant_id'].nunique()\n",
    "df1.sort_values(ascending=False).head()"
   ]
  },
  {
   "cell_type": "markdown",
   "id": "2f063d0f-78c6-4196-b805-70173288e6be",
   "metadata": {},
   "source": [
    "3. Qual o nome do país que possui mais restaurantes com o nível de preço igual a 4 registrados?"
   ]
  },
  {
   "cell_type": "code",
   "execution_count": null,
   "id": "9f365cc6-75f8-4520-83ba-67c4f74b8e0f",
   "metadata": {},
   "outputs": [],
   "source": [
    "df = df[df['price_range'] == 'gourmet']\n",
    "df1 = df.groupby('country_code')['restaurant_id'].nunique()\n",
    "df1.sort_values(ascending=False).head()"
   ]
  },
  {
   "cell_type": "markdown",
   "id": "2f4bba6c-2d84-4ac1-a320-4ac775a1a2ef",
   "metadata": {},
   "source": [
    "4. Qual o nome do país que possui a maior quantidade de tipos de culinária distintos?"
   ]
  },
  {
   "cell_type": "code",
   "execution_count": null,
   "id": "4d066242-3b28-48c5-8ea7-aa765853b414",
   "metadata": {},
   "outputs": [],
   "source": [
    "df1 = df.groupby('country_code')['cuisines'].nunique()\n",
    "df1.sort_values(ascending=False).head()"
   ]
  },
  {
   "cell_type": "markdown",
   "id": "5a337757-fe64-41fa-9ffa-25cf8077902d",
   "metadata": {},
   "source": [
    "5. Qual o nome do país que possui a maior quantidade de avaliações feitas?"
   ]
  },
  {
   "cell_type": "code",
   "execution_count": null,
   "id": "0aaacc94-9f13-4945-af1e-a722c655d06a",
   "metadata": {},
   "outputs": [],
   "source": [
    "df1 = df.groupby('country_code')['aggregate_rating'].count()\n",
    "df1.sort_values(ascending=False).head()"
   ]
  },
  {
   "cell_type": "markdown",
   "id": "48eba691-7327-4767-b63f-17d32e131328",
   "metadata": {},
   "source": [
    "6. Qual o nome do país que possui a maior quantidade de restaurantes que fazem entrega?"
   ]
  },
  {
   "cell_type": "code",
   "execution_count": null,
   "id": "0d05bae6-6052-46c4-a0eb-c44a966688bb",
   "metadata": {},
   "outputs": [],
   "source": [
    "df = df[df['is_delivering_now'] == 1]\n",
    "df1 = df.groupby('country_code')['restaurant_id'].nunique()\n",
    "df1.sort_values(ascending=False).head()"
   ]
  },
  {
   "cell_type": "markdown",
   "id": "848d1d05-4561-4090-936e-90020fd37001",
   "metadata": {},
   "source": [
    "7. Qual o nome do país que possui a maior quantidade de restaurantes que aceitam reservas?"
   ]
  },
  {
   "cell_type": "code",
   "execution_count": null,
   "id": "55c7e56d-5884-4c89-b782-c838fdddefce",
   "metadata": {},
   "outputs": [],
   "source": [
    "df_aux = df[df['has_table_booking'] == 1]\n",
    "df1 = df_aux.groupby('country_code')['restaurant_id'].nunique()\n",
    "df1.sort_values(ascending=False).head()"
   ]
  },
  {
   "cell_type": "markdown",
   "id": "b673d73f-103e-4b76-8963-5de8d233d6e5",
   "metadata": {},
   "source": [
    "8. Qual o nome do país que possui, na média, a maior quantidade de avaliações registrada?"
   ]
  },
  {
   "cell_type": "code",
   "execution_count": null,
   "id": "feac3c48-0e14-4939-ade4-e93a3926f1aa",
   "metadata": {},
   "outputs": [],
   "source": [
    "df1 = df.groupby('country_code')['aggregate_rating'].mean()\n",
    "df1.sort_values(ascending=False).head()"
   ]
  },
  {
   "cell_type": "markdown",
   "id": "75bdfefb-bfe3-446d-922c-c41bd085bc54",
   "metadata": {},
   "source": [
    "9. Qual o nome do país que possui, na média, a maior nota média registrada?"
   ]
  },
  {
   "cell_type": "code",
   "execution_count": null,
   "id": "bb9b222e-59ca-47d3-9d11-0d9d7a99c220",
   "metadata": {},
   "outputs": [],
   "source": [
    "df1 = df.groupby('country_code')['aggregate_rating'].mean()\n",
    "df1.sort_values(ascending=False).head(1)"
   ]
  },
  {
   "cell_type": "markdown",
   "id": "144b7ec5-7f70-480b-a960-11a56f840921",
   "metadata": {},
   "source": [
    "10. Qual o nome do país que possui, na média, a menor nota média registrada?"
   ]
  },
  {
   "cell_type": "code",
   "execution_count": null,
   "id": "b93f4909-2ea8-4b51-a5ab-210a448e2eec",
   "metadata": {},
   "outputs": [],
   "source": [
    "df1 = df.groupby('country_code')['aggregate_rating'].mean()\n",
    "df1.sort_values(ascending=True).head(1)"
   ]
  },
  {
   "cell_type": "markdown",
   "id": "b66f7087-8a17-4c8f-a524-1c6894d4f78a",
   "metadata": {},
   "source": [
    "11. Qual a média de preço de um prato para dois por país?"
   ]
  },
  {
   "cell_type": "code",
   "execution_count": null,
   "id": "d6f77c82-f28e-4853-b781-aa65ee0a55c2",
   "metadata": {},
   "outputs": [],
   "source": [
    "df1 = df.groupby('country_code')['average_cost_for_two'].mean()\n",
    "df1.sort_values(ascending=False).head()"
   ]
  },
  {
   "cell_type": "markdown",
   "id": "8dc03f61-0bec-4071-8d73-ee7be78d4c20",
   "metadata": {},
   "source": [
    "=== Cidade ==="
   ]
  },
  {
   "cell_type": "markdown",
   "id": "b3c4ca4d-e1db-4afb-839d-5e67258a920c",
   "metadata": {},
   "source": [
    "1. Qual o nome da cidade que possui mais restaurantes registrados?"
   ]
  },
  {
   "cell_type": "code",
   "execution_count": null,
   "id": "88726c33-a981-425f-82ef-ae994b044b83",
   "metadata": {},
   "outputs": [],
   "source": [
    "df1 = df.groupby('city')['restaurant_id'].nunique()\n",
    "df1.sort_values(ascending=False).head(5)"
   ]
  },
  {
   "cell_type": "markdown",
   "id": "5a42aeff-0ce0-44a7-bc76-df0279041342",
   "metadata": {},
   "source": [
    "2. Qual o nome da cidade que possui mais restaurantes com nota média acima de 4?"
   ]
  },
  {
   "cell_type": "code",
   "execution_count": null,
   "id": "f38d2462-ffa9-4b6a-af1e-4d967ec8cf0d",
   "metadata": {},
   "outputs": [],
   "source": [
    "df1 = df[df['aggregate_rating'] >= 4]\n",
    "df1 = df1.groupby(['city', 'country_code'])['restaurant_id'].nunique()\n",
    "df1.sort_values(ascending=False).head(5)"
   ]
  },
  {
   "cell_type": "markdown",
   "id": "1ba48554-a510-42ed-bd32-f81ddb0a6019",
   "metadata": {},
   "source": [
    "3. Qual o nome da cidade que possui mais restaurantes com nota média abaixo de 2.5?"
   ]
  },
  {
   "cell_type": "code",
   "execution_count": null,
   "id": "cf0edf3e-b573-4130-b772-1e30211f8158",
   "metadata": {},
   "outputs": [],
   "source": [
    "df1 = df[df['aggregate_rating'] <= 2.5]\n",
    "df1 = df1.groupby(['city', 'country_code'])['restaurant_id'].nunique()\n",
    "df1.sort_values(ascending=False).head(5)"
   ]
  },
  {
   "cell_type": "markdown",
   "id": "8a0deb6b-7c6e-4cd5-be65-f7870b440a69",
   "metadata": {},
   "source": [
    "4. Qual o nome da cidade que possui o maior valor médio de um prato para dois?"
   ]
  },
  {
   "cell_type": "code",
   "execution_count": null,
   "id": "cbbda665-bdc5-46c5-89f7-ae8e727f71f7",
   "metadata": {},
   "outputs": [],
   "source": [
    "df1 = df.groupby(['city', 'country_code'])['average_cost_for_two'].max()\n",
    "df1.sort_values(ascending=False).head(5)"
   ]
  },
  {
   "cell_type": "markdown",
   "id": "3646ccc0-9f67-4f50-8e19-c83841c1b8e4",
   "metadata": {},
   "source": [
    "5. Qual o nome da cidade que possui a maior quantidade de tipos de culinária distintas?"
   ]
  },
  {
   "cell_type": "code",
   "execution_count": null,
   "id": "7cbdaf7d-eaad-42d3-898c-a3a5debf3337",
   "metadata": {},
   "outputs": [],
   "source": [
    "df1 = df.groupby(['city', 'country_code'])['cuisines'].nunique()\n",
    "df1.sort_values(ascending=False).head(5)"
   ]
  },
  {
   "cell_type": "markdown",
   "id": "b278e25b-de70-4f05-b74d-d2003eb55da3",
   "metadata": {},
   "source": [
    "6. Qual o nome da cidade que possui a maior quantidade de restaurantes que fazem reservas?"
   ]
  },
  {
   "cell_type": "code",
   "execution_count": null,
   "id": "d649d289-baab-495b-896f-cb141cc5eaba",
   "metadata": {},
   "outputs": [],
   "source": [
    "df1 = df[df['has_table_booking'] == 1]\n",
    "df1 = df1.groupby(['city', 'country_code'])['restaurant_id'].nunique()\n",
    "df1.sort_values(ascending=False).head(5)"
   ]
  },
  {
   "cell_type": "markdown",
   "id": "61246b90-5876-4b0a-baa8-811165e3df67",
   "metadata": {},
   "source": [
    "7. Qual o nome da cidade que possui a maior quantidade de restaurantes que fazem entregas?"
   ]
  },
  {
   "cell_type": "code",
   "execution_count": null,
   "id": "1883a4e7-cd53-4d0f-93c2-87aec29aac50",
   "metadata": {},
   "outputs": [],
   "source": [
    "df1 = df[df['is_delivering_now'] == 1]\n",
    "df1 = df1.groupby(['city', 'country_code'])['restaurant_id'].nunique()\n",
    "df1.sort_values(ascending=False).head(5)"
   ]
  },
  {
   "cell_type": "markdown",
   "id": "86da0fb3-852b-4e30-9e2c-209ba3d3fbbc",
   "metadata": {},
   "source": [
    "8. Qual o nome da cidade que possui a maior quantidade de restaurantes que aceitam pedidos online?"
   ]
  },
  {
   "cell_type": "code",
   "execution_count": null,
   "id": "4afa3044-2805-46f7-9327-fc66a1bc9604",
   "metadata": {},
   "outputs": [],
   "source": [
    "df1 = df[df['has_online_delivery'] == 1]\n",
    "df1 = df1.groupby(['city', 'country_code'])['restaurant_id'].nunique()\n",
    "df1.sort_values(ascending=False).head(5)\n"
   ]
  },
  {
   "cell_type": "markdown",
   "id": "4d41fde0-5fd4-4ef6-83b8-68c213403f2a",
   "metadata": {},
   "source": [
    "=== Restaurantes ==="
   ]
  },
  {
   "cell_type": "markdown",
   "id": "f15e9c40-2fe9-465f-81f6-4e6f05a29043",
   "metadata": {},
   "source": [
    "1. Qual o nome do restaurante que possui a maior quantidade de avaliações?"
   ]
  },
  {
   "cell_type": "code",
   "execution_count": null,
   "id": "71b5cbf2-84d8-4329-bdfe-19ded70353f1",
   "metadata": {},
   "outputs": [],
   "source": [
    "df1 = df.groupby(['restaurant_name', 'country_code'])['aggregate_rating'].count()\n",
    "df1.sort_values(ascending=False).head(5)"
   ]
  },
  {
   "cell_type": "markdown",
   "id": "795e8081-7426-4e9f-900b-b56195cb3764",
   "metadata": {},
   "source": [
    "2. Qual o nome do restaurante com a maior nota média?"
   ]
  },
  {
   "cell_type": "code",
   "execution_count": null,
   "id": "0c115119-1e45-4b26-ace6-cb2423fb99f7",
   "metadata": {},
   "outputs": [],
   "source": [
    "df1 = df.groupby(['restaurant_name', 'country_code', 'restaurant_id'])['aggregate_rating'].max().reset_index()\n",
    "df1.sort_values(['aggregate_rating', 'restaurant_id'], ascending=[False, True]).head(5)"
   ]
  },
  {
   "cell_type": "markdown",
   "id": "fa188fc3-f3b8-46c8-b0b3-7e48ccaea2d5",
   "metadata": {},
   "source": [
    "3. Qual o nome do restaurante que possui o maior valor de uma prato para duas pessoas?"
   ]
  },
  {
   "cell_type": "code",
   "execution_count": null,
   "id": "e668bde0-518d-492a-997d-f1e52133934c",
   "metadata": {},
   "outputs": [],
   "source": [
    "df1 = df.groupby(['restaurant_name', 'country_code', 'restaurant_id'])['average_cost_for_two'].max().reset_index()\n",
    "df1.sort_values(['average_cost_for_two', 'restaurant_id'], ascending=[False, True]).head(5)"
   ]
  },
  {
   "cell_type": "markdown",
   "id": "e227b041-f064-439d-93c8-e73575914f46",
   "metadata": {},
   "source": [
    "4. Qual o nome do restaurante de tipo de culinária brasileira que possui a menor média de avaliação?"
   ]
  },
  {
   "cell_type": "code",
   "execution_count": null,
   "id": "c0062039-5d00-409a-9bf9-32bc04bf7bb3",
   "metadata": {},
   "outputs": [],
   "source": [
    "df1 = df[(df['cuisines'] == 'Brazilian') & (df['aggregate_rating'] > 0.0)]\n",
    "df1 = df1.groupby(['restaurant_name', 'country_code', 'restaurant_id'])['aggregate_rating'].min().reset_index()\n",
    "df1.sort_values(['aggregate_rating'], ascending=[True]).head(5)"
   ]
  },
  {
   "cell_type": "markdown",
   "id": "6767930d-a322-461e-b623-ad1c2fb34b6a",
   "metadata": {},
   "source": [
    "5. Qual o nome do restaurante de tipo de culinária brasileira, e que é do Brasil, que possui a maior média de avaliação?"
   ]
  },
  {
   "cell_type": "code",
   "execution_count": null,
   "id": "f7968b92-196d-4599-aecd-8078944a2ede",
   "metadata": {},
   "outputs": [],
   "source": [
    "df1 = df[(df['cuisines'] == 'Brazilian') & (df['country_code'] == 'Brazil')]\n",
    "df1 = df1.groupby(['restaurant_name', 'country_code', 'restaurant_id'])['aggregate_rating'].max().reset_index()\n",
    "df1.sort_values(['aggregate_rating'], ascending=False).head(5)"
   ]
  },
  {
   "cell_type": "markdown",
   "id": "b81f0ac1-4cbf-4754-9c84-b00cb377580c",
   "metadata": {},
   "source": [
    "6. Os restaurantes que aceitam pedido online são também, na média, os restaurantes que mais possuem avaliações registradas?"
   ]
  },
  {
   "cell_type": "code",
   "execution_count": null,
   "id": "1c4faf82-cf2f-44c8-b308-cb773c2d974c",
   "metadata": {},
   "outputs": [],
   "source": [
    "df1 = df[df['has_online_delivery'] == 1]\n",
    "df1 = df1.groupby(['restaurant_name', 'country_code', 'restaurant_id'])['aggregate_rating'].max().reset_index()\n",
    "df1.sort_values(['aggregate_rating', 'restaurant_id'], ascending=[False, True]).head(10)"
   ]
  },
  {
   "cell_type": "code",
   "execution_count": null,
   "id": "665d7d00-25ca-4ea8-b76e-0ca718387b7a",
   "metadata": {},
   "outputs": [],
   "source": [
    "df1 = df.groupby(['restaurant_name', 'country_code', 'restaurant_id'])['aggregate_rating'].max().reset_index()\n",
    "df1.sort_values(['aggregate_rating', 'restaurant_id'], ascending=[False, True]).head(10)"
   ]
  },
  {
   "cell_type": "markdown",
   "id": "54a382eb-518a-4144-973b-05acb9ad2e5a",
   "metadata": {},
   "source": [
    "7. Os restaurantes que fazem reservas são também, na média, os restaurantes que possuem o maior valor médio de um prato para duas pessoas?"
   ]
  },
  {
   "cell_type": "code",
   "execution_count": null,
   "id": "f41f9d00-986a-4b6d-be50-e21d875f6be0",
   "metadata": {},
   "outputs": [],
   "source": [
    "df1 = df[df['has_table_booking'] == 1]\n",
    "df1 = df1.groupby(['restaurant_name', 'country_code', 'restaurant_id'])['average_cost_for_two'].max().reset_index()\n",
    "df1.sort_values(['average_cost_for_two', 'restaurant_id'], ascending=[False, True]).head(10)"
   ]
  },
  {
   "cell_type": "code",
   "execution_count": null,
   "id": "9462cd83-204e-4ded-9731-bbffae395b88",
   "metadata": {},
   "outputs": [],
   "source": [
    "df1 = df.groupby(['restaurant_name', 'country_code', 'restaurant_id'])['average_cost_for_two'].max().reset_index()\n",
    "df1.sort_values(['average_cost_for_two', 'restaurant_id'], ascending=[False, True]).head(10)"
   ]
  },
  {
   "cell_type": "markdown",
   "id": "02902980-aa7d-49e9-a115-0d08f4880c49",
   "metadata": {},
   "source": [
    "8. Os restaurantes do tipo de culinária japonesa dos Estados Unidos da América possuem um valor médio de prato para duas pessoas maior que as churrascarias americanas (BBQ)?"
   ]
  },
  {
   "cell_type": "code",
   "execution_count": null,
   "id": "4d21f79f-ed7f-46ca-bc7c-b8bb20e72070",
   "metadata": {},
   "outputs": [],
   "source": [
    "df1 = df[(df['cuisines'] == 'Japanese') & (df['country_code'] == 'United States of America')]\n",
    "df1 = df1.groupby(['restaurant_name', 'country_code', 'restaurant_id'])['average_cost_for_two'].max().reset_index()\n",
    "df1.sort_values(['average_cost_for_two'], ascending=False).head(5)"
   ]
  },
  {
   "cell_type": "code",
   "execution_count": null,
   "id": "29b915c5-e12f-4d02-8a62-5da86bafd9f1",
   "metadata": {},
   "outputs": [],
   "source": [
    "df1 = df[(df['cuisines'] == 'BBQ') & (df['country_code'] == 'United States of America')]\n",
    "df1 = df1.groupby(['restaurant_name', 'country_code', 'restaurant_id'])['average_cost_for_two'].max().reset_index()\n",
    "df1.sort_values(['average_cost_for_two'], ascending=False).head(5)"
   ]
  },
  {
   "cell_type": "markdown",
   "id": "f2f4d8fb-3a25-4967-a3b3-2d9713c79d44",
   "metadata": {},
   "source": [
    "=== Tipos de Culinária ==="
   ]
  },
  {
   "cell_type": "markdown",
   "id": "3a78703c-4692-44a1-b4d4-eb4b0520b4c8",
   "metadata": {},
   "source": [
    "1. Dos restaurantes que possuem o tipo de culinária italiana, qual o nome do restaurante com a maior média de avaliação?"
   ]
  },
  {
   "cell_type": "code",
   "execution_count": null,
   "id": "25f75478-6615-47ac-841a-4e88821b76c3",
   "metadata": {},
   "outputs": [],
   "source": [
    "df1 = df[(df['cuisines'] == 'Italian')]\n",
    "df1 = df1.groupby(['restaurant_name', 'country_code', 'restaurant_id'])['aggregate_rating'].max().reset_index()\n",
    "df1.sort_values(['aggregate_rating', 'restaurant_id'], ascending=[False, True]).head(5)"
   ]
  },
  {
   "cell_type": "markdown",
   "id": "79769aab-7e29-41be-a299-add5f33c19e6",
   "metadata": {},
   "source": [
    "2. Dos restaurantes que possuem o tipo de culinária italiana, qual o nome do restaurante com a menor média de avaliação?"
   ]
  },
  {
   "cell_type": "code",
   "execution_count": null,
   "id": "0ecaf58d-d016-442d-a803-e7e356394a81",
   "metadata": {},
   "outputs": [],
   "source": [
    "df1 = df[(df['cuisines'] == 'Italian') & (df['aggregate_rating'] > 0.0)]\n",
    "df1 = df1.groupby(['restaurant_name', 'country_code', 'restaurant_id'])['aggregate_rating'].min().reset_index()\n",
    "df1.sort_values(['aggregate_rating', 'restaurant_id'], ascending=[True, True]).head(5)"
   ]
  },
  {
   "cell_type": "markdown",
   "id": "0844c388-20f0-48bb-9343-1545b047863c",
   "metadata": {},
   "source": [
    "3. Dos restaurantes que possuem o tipo de culinária americana, qual o nome do restaurante com a maior média de avaliação?"
   ]
  },
  {
   "cell_type": "code",
   "execution_count": null,
   "id": "c261bb0e-5ee8-4e70-9683-a9a4b2aea88d",
   "metadata": {},
   "outputs": [],
   "source": [
    "df1 = df[(df['cuisines'] == 'American')]\n",
    "df1 = df1.groupby(['restaurant_name', 'country_code', 'restaurant_id'])['aggregate_rating'].max().reset_index()\n",
    "df1.sort_values(['aggregate_rating', 'restaurant_id'], ascending=[False, True]).head(5)"
   ]
  },
  {
   "cell_type": "markdown",
   "id": "998a6b16-27c5-4384-a7cb-82475e00f8d8",
   "metadata": {},
   "source": [
    "4. Dos restaurantes que possuem o tipo de culinária americana, qual o nome do restaurante com a menor média de avaliação?"
   ]
  },
  {
   "cell_type": "code",
   "execution_count": null,
   "id": "7eb9649c-96ed-4cd5-a888-a8637f519925",
   "metadata": {},
   "outputs": [],
   "source": [
    "df1 = df[(df['cuisines'] == 'American') & (df['aggregate_rating'] > 0.0)]\n",
    "df1 = df1.groupby(['restaurant_name', 'country_code', 'restaurant_id'])['aggregate_rating'].min().reset_index()\n",
    "df1.sort_values(['aggregate_rating', 'restaurant_id'], ascending=[True, True]).head(5)"
   ]
  },
  {
   "cell_type": "markdown",
   "id": "0ccd1164-826c-4143-a2e1-c5b98f2f3526",
   "metadata": {},
   "source": [
    "5. Dos restaurantes que possuem o tipo de culinária árabe, qual o nome do restaurante com a maior média de avaliação?"
   ]
  },
  {
   "cell_type": "code",
   "execution_count": null,
   "id": "9088d0fa-8f01-4e3d-b0c1-5d5d87ca759a",
   "metadata": {},
   "outputs": [],
   "source": [
    "df1 = df[(df['cuisines'] == 'Arabian')]\n",
    "df1 = df1.groupby(['restaurant_name', 'country_code', 'restaurant_id'])['aggregate_rating'].max().reset_index()\n",
    "df1.sort_values(['aggregate_rating', 'restaurant_id'], ascending=[False, True]).head(5)"
   ]
  },
  {
   "cell_type": "markdown",
   "id": "e97518d1-705a-40ae-b608-4ab3f0eab680",
   "metadata": {},
   "source": [
    "6. Dos restaurantes que possuem o tipo de culinária árabe, qual o nome do restaurante com a menor média de avaliação?"
   ]
  },
  {
   "cell_type": "code",
   "execution_count": null,
   "id": "72e08a10-adf4-49d3-bebc-ac40caeac75d",
   "metadata": {},
   "outputs": [],
   "source": [
    "df1 = df[(df['cuisines'] == 'Arabian') & (df['aggregate_rating'] > 0.0)]\n",
    "df1 = df1.groupby(['restaurant_name', 'country_code', 'restaurant_id'])['aggregate_rating'].min().reset_index()\n",
    "df1.sort_values(['aggregate_rating', 'restaurant_id'], ascending=[True, True]).head(5)"
   ]
  },
  {
   "cell_type": "markdown",
   "id": "404bd40b-e2df-4281-b6a5-6421ea175dc8",
   "metadata": {},
   "source": [
    "7. Dos restaurantes que possuem o tipo de culinária japonesa, qual o nome do restaurante com a maior média de avaliação?"
   ]
  },
  {
   "cell_type": "code",
   "execution_count": null,
   "id": "87f8f57e-dac5-4fa6-9ffa-593a60077b69",
   "metadata": {},
   "outputs": [],
   "source": [
    "df1 = df[(df['cuisines'] == 'Japanese')]\n",
    "df1 = df1.groupby(['restaurant_name', 'country_code', 'restaurant_id'])['aggregate_rating'].max().reset_index()\n",
    "df1.sort_values(['aggregate_rating', 'restaurant_id'], ascending=[False, True]).head(5)"
   ]
  },
  {
   "cell_type": "markdown",
   "id": "c4d3dea3-d825-471a-ab11-1b0c3c509ffb",
   "metadata": {},
   "source": [
    "8. Dos restaurantes que possuem o tipo de culinária japonesa, qual o nome do restaurante com a menor média de avaliação?"
   ]
  },
  {
   "cell_type": "code",
   "execution_count": null,
   "id": "5e86a8b9-acb2-460d-9345-62e881dae71e",
   "metadata": {},
   "outputs": [],
   "source": [
    "df1 = df[(df['cuisines'] == 'Japanese') & (df['aggregate_rating'] > 0.0)]\n",
    "df1 = df1.groupby(['restaurant_name', 'country_code', 'restaurant_id'])['aggregate_rating'].min().reset_index()\n",
    "df1.sort_values(['aggregate_rating', 'restaurant_id'], ascending=[True, True]).head(5)"
   ]
  },
  {
   "cell_type": "markdown",
   "id": "44065a8e-3cc6-439a-adf5-37cae62125da",
   "metadata": {},
   "source": [
    "9. Dos restaurantes que possuem o tipo de culinária caseira, qual o nome do restaurante com a maior média de avaliação?"
   ]
  },
  {
   "cell_type": "code",
   "execution_count": null,
   "id": "07af6af2-aaf7-4486-b833-2909287e1ed6",
   "metadata": {},
   "outputs": [],
   "source": [
    "df1 = df[(df['cuisines'] == 'Finger Food')]\n",
    "df1 = df1.groupby(['restaurant_name', 'country_code', 'restaurant_id'])['aggregate_rating'].max().reset_index()\n",
    "df1.sort_values(['aggregate_rating', 'restaurant_id'], ascending=[False, True]).head(5)"
   ]
  },
  {
   "cell_type": "markdown",
   "id": "8f59ef08-2acf-4804-812c-78b0393b9911",
   "metadata": {},
   "source": [
    "10. Dos restaurantes que possuem o tipo de culinária caseira, qual o nome do restaurante com a menor média de avaliação?"
   ]
  },
  {
   "cell_type": "code",
   "execution_count": null,
   "id": "8c1fa869-d444-4a26-a7d7-cad8950f0fe6",
   "metadata": {},
   "outputs": [],
   "source": [
    "df1 = df[(df['cuisines'] == 'Finger Food') & (df['aggregate_rating'] > 0.0)]\n",
    "df1 = df1.groupby(['restaurant_name', 'country_code', 'restaurant_id'])['aggregate_rating'].min().reset_index()\n",
    "df1.sort_values(['aggregate_rating', 'restaurant_id'], ascending=[True, True]).head(5)"
   ]
  },
  {
   "cell_type": "markdown",
   "id": "6209bf69-3562-43db-8d84-3b74a0fea3e1",
   "metadata": {},
   "source": [
    "11. Qual o tipo de culinária que possui o maior valor médio de um prato para duas pessoas?"
   ]
  },
  {
   "cell_type": "code",
   "execution_count": null,
   "id": "3584844c-9fa7-48af-963e-b3d16db8b11d",
   "metadata": {},
   "outputs": [],
   "source": [
    "df1 = df.groupby(['restaurant_name', 'country_code', 'restaurant_id', 'cuisines'])['average_cost_for_two'].max().reset_index()\n",
    "df1.sort_values(['average_cost_for_two', 'restaurant_id'], ascending=[False, True]).head(5)"
   ]
  },
  {
   "cell_type": "markdown",
   "id": "96b8fd3e-2a3e-4a31-839e-4651afeced67",
   "metadata": {},
   "source": [
    "12. Qual o tipo de culinária que possui a maior nota média?"
   ]
  },
  {
   "cell_type": "code",
   "execution_count": null,
   "id": "09e330ce-1121-4bb0-aeb8-139bccab7932",
   "metadata": {},
   "outputs": [],
   "source": [
    "df1 = df.groupby(['restaurant_name', 'country_code', 'restaurant_id', 'cuisines'])['aggregate_rating'].max().reset_index()\n",
    "df1.sort_values(['aggregate_rating', 'restaurant_id'], ascending=[False, True]).head(5)"
   ]
  },
  {
   "cell_type": "markdown",
   "id": "a0e926d4-685d-428a-b2b1-7c4b9fa9d94e",
   "metadata": {},
   "source": [
    "13. Qual o tipo de culinária que possui mais restaurantes que aceitam pedidos online e fazem entregas?"
   ]
  },
  {
   "cell_type": "code",
   "execution_count": null,
   "id": "e6b4d346-4785-4777-97da-2a45c98e05f3",
   "metadata": {},
   "outputs": [],
   "source": [
    "df1 = df[(df['has_online_delivery'] == 1) & (df['is_delivering_now'] == 1)]\n",
    "df1 = df1.groupby(['restaurant_name', 'country_code', 'restaurant_id', 'cuisines'])['aggregate_rating'].max().reset_index()\n",
    "df1.sort_values(['aggregate_rating', 'restaurant_id'], ascending=[False, True]).head(5)"
   ]
  }
 ],
 "metadata": {
  "kernelspec": {
   "display_name": "Python 3 (ipykernel)",
   "language": "python",
   "name": "python3"
  },
  "language_info": {
   "codemirror_mode": {
    "name": "ipython",
    "version": 3
   },
   "file_extension": ".py",
   "mimetype": "text/x-python",
   "name": "python",
   "nbconvert_exporter": "python",
   "pygments_lexer": "ipython3",
   "version": "3.8.18"
  }
 },
 "nbformat": 4,
 "nbformat_minor": 5
}
